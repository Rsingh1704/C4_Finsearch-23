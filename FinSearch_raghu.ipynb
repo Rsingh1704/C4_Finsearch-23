{
 "cells": [
  {
   "cell_type": "markdown",
   "id": "af760b5e",
   "metadata": {},
   "source": [
    "# Calculating Pearson's correlation coefficient"
   ]
  },
  {
   "cell_type": "code",
   "execution_count": 1,
   "id": "70bf27e0",
   "metadata": {},
   "outputs": [],
   "source": [
    "import numpy as np"
   ]
  },
  {
   "cell_type": "code",
   "execution_count": 2,
   "id": "78f06539",
   "metadata": {},
   "outputs": [],
   "source": [
    "def pearson_correlation(X, Y):\n",
    "    mean_X = np.mean(X)\n",
    "    mean_Y = np.mean(Y)\n",
    "    \n",
    "    numerator = np.sum((X - mean_X) * (Y - mean_Y))\n",
    "    denominator_X = np.sqrt(np.sum((X - mean_X)**2))\n",
    "    denominator_Y = np.sqrt(np.sum((Y - mean_Y)**2))\n",
    "    \n",
    "    r = numerator / (denominator_X * denominator_Y)\n",
    "    \n",
    "    return r"
   ]
  },
  {
   "cell_type": "code",
   "execution_count": 3,
   "id": "69944e48",
   "metadata": {},
   "outputs": [
    {
     "name": "stdout",
     "output_type": "stream",
     "text": [
      "Pearson's correlation coefficient between Govt Spend and GDP growth rate: -0.446356544284914\n",
      "Pearson's correlation coefficient between Govt Spend and Unemployment rate: 0.8732873547340542\n"
     ]
    }
   ],
   "source": [
    "# Example usage:\n",
    "GovtSpend = np.array([35,34.6,34.7,36.3,40.3,39.2])\n",
    "GDP = np.array([1.8,1.4,1.5,-1.2,-5.7,4.1])\n",
    "Unemp = np.array([4.45,4.19,3.89,4,5.07,5.1])\n",
    "Govt_GDP = pearson_correlation(GovtSpend, GDP)\n",
    "Govt_Unemp = pearson_correlation(GovtSpend, Unemp)\n",
    "print(\"Pearson's correlation coefficient between Govt Spend and GDP growth rate:\", Govt_GDP)\n",
    "print(\"Pearson's correlation coefficient between Govt Spend and Unemployment rate:\", Govt_Unemp)"
   ]
  },
  {
   "cell_type": "markdown",
   "id": "b1b28bc5",
   "metadata": {},
   "source": [
    "# Hypothesis Testing for Govt Spending and GDP growth rate "
   ]
  },
  {
   "cell_type": "code",
   "execution_count": 4,
   "id": "1b230630",
   "metadata": {},
   "outputs": [],
   "source": [
    "r1 = Govt_GDP  \n",
    "r2 = Govt_Unemp\n",
    "df = 4  #degrees of freedom (n-2)\n",
    "t1 = (r1 * np.sqrt(df)) / np.sqrt(1 - r1**2)\n",
    "t2 = (r2 * np.sqrt(df)) / np.sqrt(1 - r2**2)"
   ]
  },
  {
   "cell_type": "code",
   "execution_count": 5,
   "id": "7fcfefe1",
   "metadata": {},
   "outputs": [
    {
     "data": {
      "text/plain": [
       "-0.9976061881279726"
      ]
     },
     "execution_count": 5,
     "metadata": {},
     "output_type": "execute_result"
    }
   ],
   "source": [
    "t1"
   ]
  },
  {
   "cell_type": "code",
   "execution_count": 6,
   "id": "69ed81ee",
   "metadata": {},
   "outputs": [
    {
     "data": {
      "text/plain": [
       "3.584883013688596"
      ]
     },
     "execution_count": 6,
     "metadata": {},
     "output_type": "execute_result"
    }
   ],
   "source": [
    "t2"
   ]
  },
  {
   "cell_type": "code",
   "execution_count": 7,
   "id": "71e9340b",
   "metadata": {},
   "outputs": [
    {
     "name": "stdout",
     "output_type": "stream",
     "text": [
      "Fail to reject the null hypothesis. There is no statistically significant linear relationship.\n",
      "Test Statistic: -0.9976061881279726\n",
      "Critical Value: 2.7764451051977987\n",
      "P-Value: 0.3749299201855987\n"
     ]
    }
   ],
   "source": [
    "import numpy as np\n",
    "from scipy.stats import t\n",
    "\n",
    "alpha = 0.05\n",
    "\n",
    "t_statistic = (r1 * np.sqrt(df)) / np.sqrt(1 - r1**2)    # Calculating the test statistic\n",
    "\n",
    "critical_value = t.ppf(1 - alpha / 2, df)  # Calculating Critical_value using Two-tailed test\n",
    "\n",
    "p_value = 2 * (1 - t.cdf(abs(t_statistic), df))  # Calculating p_value using Two-tailed test\n",
    "\n",
    "if abs(t_statistic) > critical_value:  # Determining if the null hypotehsis is rejected or not\n",
    "    print(\"Reject the null hypothesis. There is a statistically significant linear relationship.\")\n",
    "else:\n",
    "    print(\"Fail to reject the null hypothesis. There is no statistically significant linear relationship.\")\n",
    "\n",
    "print(\"Test Statistic:\", t_statistic)\n",
    "print(\"Critical Value:\", critical_value)\n",
    "print(\"P-Value:\", p_value)\n"
   ]
  },
  {
   "cell_type": "markdown",
   "id": "d33d88d9",
   "metadata": {},
   "source": [
    "<b>Note:</b> Based on these results:\n",
    "\n",
    "1. The test statistic (-0.998) falls within the range of the critical values (-2.776 to 2.776). This means that the absolute value of the test statistic is less than the critical value.\n",
    "\n",
    "2. The p-value (0.375) is greater than the chosen significance level alpha (0.05).\n",
    "\n",
    "We can say that <b>there is no statistically significant linear relationship between Govt Spending and GDP growth rate!</b>\n"
   ]
  },
  {
   "cell_type": "markdown",
   "id": "a269837c",
   "metadata": {},
   "source": [
    "# Hypothesis testing Govt Spending and Unemployment Rate"
   ]
  },
  {
   "cell_type": "code",
   "execution_count": 8,
   "id": "9cef7448",
   "metadata": {},
   "outputs": [
    {
     "name": "stdout",
     "output_type": "stream",
     "text": [
      "Reject the null hypothesis. There is a statistically significant linear relationship.\n",
      "Test Statistic: 3.584883013688596\n",
      "Critical Value: 2.7764451051977987\n",
      "P-Value: 0.023066886603954728\n"
     ]
    }
   ],
   "source": [
    "alpha = 0.05\n",
    "\n",
    "t_statistic = (r2 * np.sqrt(df)) / np.sqrt(1 - r2**2)    # Calculating the test statistic\n",
    "\n",
    "critical_value = t.ppf(1 - alpha / 2, df)  # Calculating Critical_value using Two-tailed test\n",
    "\n",
    "p_value = 2 * (1 - t.cdf(abs(t_statistic), df))  # Calculating p_value using Two-tailed test\n",
    "\n",
    "if abs(t_statistic) > critical_value:  # Determining if the null hypotehsis is rejected or not\n",
    "    print(\"Reject the null hypothesis. There is a statistically significant linear relationship.\")\n",
    "else:\n",
    "    print(\"Fail to reject the null hypothesis. There is no statistically significant linear relationship.\")\n",
    "\n",
    "print(\"Test Statistic:\", t_statistic)\n",
    "print(\"Critical Value:\", critical_value)\n",
    "print(\"P-Value:\", p_value)\n"
   ]
  },
  {
   "cell_type": "markdown",
   "id": "f748f555",
   "metadata": {},
   "source": [
    "<b>Note:</b> Based on these results:\n",
    "\n",
    "1. The test statistic (3.584) is greater than the critical value (2.776). This means that the absolute value of the test statistic is more than the critical value.\n",
    "\n",
    "2. The p-value (0.023) is less than the chosen significance level alpha (0.05).\n",
    "\n",
    "We can say that <b>there is sufficient evidence to conclude that there is statistically significant linear relationship between  Govt Spending and Unemployment Rate!</b>\n"
   ]
  },
  {
   "cell_type": "markdown",
   "id": "a74421c8",
   "metadata": {},
   "source": [
    "# Regression Analysis - GDP growth rate vs Govt Spending "
   ]
  },
  {
   "cell_type": "code",
   "execution_count": 9,
   "id": "fa1547f2",
   "metadata": {},
   "outputs": [
    {
     "name": "stdout",
     "output_type": "stream",
     "text": [
      "Below are the regression line constanst as per Y = b0 + b1*X\n",
      "Slope (b1): -0.6116515406771365\n",
      "Intercept (b0): 22.754084017172953\n",
      "R-squared: 0.1992341646259705\n",
      "Predicted Y for X = 6 is 19.084174773110135\n"
     ]
    }
   ],
   "source": [
    "import numpy as np\n",
    "from scipy.stats import linregress\n",
    "\n",
    "# Calculate the regression equation\n",
    "slope, intercept, r_value, p_value, std_err = linregress(GovtSpend, GDP)\n",
    "\n",
    "# Print the results\n",
    "print(\"Below are the regression line constanst as per Y = b0 + b1*X\")\n",
    "print(\"Slope (b1):\", slope)\n",
    "print(\"Intercept (b0):\", intercept)\n",
    "print(\"R-squared:\", r_value**2)\n",
    "\n",
    "# Make predictions\n",
    "new_X = 6  # Example new value of X\n",
    "predicted_Y = intercept + slope * new_X\n",
    "print(\"Predicted Y for X =\", new_X, \"is\", predicted_Y)\n"
   ]
  },
  {
   "cell_type": "code",
   "execution_count": 10,
   "id": "7e428269",
   "metadata": {},
   "outputs": [
    {
     "data": {
      "image/png": "[encoded data removed]",
      "text/plain": [
       "<Figure size 432x288 with 1 Axes>"
      ]
     },
     "metadata": {
      "needs_background": "light"
     },
     "output_type": "display_data"
    }
   ],
   "source": [
    "import matplotlib.pyplot as plt\n",
    "\n",
    "plt.scatter(GovtSpend, GDP, label='')\n",
    "\n",
    "# Calculate the predicted Y values based on the regression equation\n",
    "predicted_Y = intercept + slope * GovtSpend\n",
    "\n",
    "# Plot the regression line\n",
    "plt.plot(GovtSpend, predicted_Y, color='red', label='Regression Line')\n",
    "\n",
    "# Add labels and a legend\n",
    "plt.xlabel('GovtSpend as % of GDP')\n",
    "plt.ylabel('GDP growth rate')\n",
    "plt.legend()\n",
    "\n",
    "# Show the plot\n",
    "plt.title('Linear Regression Analysis: GDP vs GovtSpend')\n",
    "plt.grid(True)\n",
    "plt.show()"
   ]
  },
  {
   "cell_type": "markdown",
   "id": "3aa80213",
   "metadata": {},
   "source": [
    "<b> Note: </b>Clearly what we derived from the hypothesis testing is also visible here, we can see that we cannot assume linear relationship between GovtSpend as % of GDP and GDP growth rate which is now evident from the above graph. "
   ]
  },
  {
   "cell_type": "markdown",
   "id": "960724d8",
   "metadata": {},
   "source": [
    "# Regression Analysis - Unemployment rate vs Govt Spending "
   ]
  },
  {
   "cell_type": "code",
   "execution_count": 11,
   "id": "520c097c",
   "metadata": {},
   "outputs": [
    {
     "name": "stdout",
     "output_type": "stream",
     "text": [
      "Below are the regression line constanst as per Y = b0 + b1*X\n",
      "Slope (b1): 0.18595728493016692\n",
      "Intercept (b0): -2.371533068854956\n",
      "R-squared: 0.7626308039384021\n",
      "Predicted Y for X = 6 is -1.2557893592739544\n"
     ]
    }
   ],
   "source": [
    "# Calculate the regression equation\n",
    "slope, intercept, r_value, p_value, std_err = linregress(GovtSpend, Unemp)\n",
    "\n",
    "# Print the results\n",
    "print(\"Below are the regression line constanst as per Y = b0 + b1*X\")\n",
    "print(\"Slope (b1):\", slope)\n",
    "print(\"Intercept (b0):\", intercept)\n",
    "print(\"R-squared:\", r_value**2)\n",
    "\n",
    "# Make predictions\n",
    "new_X = 6  # Example new value of X\n",
    "predicted_Y = intercept + slope * new_X\n",
    "print(\"Predicted Y for X =\", new_X, \"is\", predicted_Y)"
   ]
  },
  {
   "cell_type": "code",
   "execution_count": 12,
   "id": "5b3b54b8",
   "metadata": {},
   "outputs": [
    {
     "data": {
      "image/png": "[encoded data removed]",
      "text/plain": [
       "<Figure size 432x288 with 1 Axes>"
      ]
     },
     "metadata": {
      "needs_background": "light"
     },
     "output_type": "display_data"
    }
   ],
   "source": [
    "plt.scatter(GovtSpend, Unemp, label='')\n",
    "\n",
    "# Calculate the predicted Y values based on the regression equation\n",
    "predicted_Y = intercept + slope * GovtSpend\n",
    "\n",
    "# Plot the regression line\n",
    "plt.plot(GovtSpend, predicted_Y, color='red', label='Regression Line')\n",
    "\n",
    "# Add labels and a legend\n",
    "plt.xlabel('GovtSpend as % of GDP')\n",
    "plt.ylabel('Unemployment rate')\n",
    "plt.legend()\n",
    "\n",
    "# Show the plot\n",
    "plt.title('Linear Regression Analysis: Unemployment rate vs GovtSpend')\n",
    "plt.grid(True)\n",
    "plt.show()"
   ]
  },
  {
   "cell_type": "markdown",
   "id": "4dfd4907",
   "metadata": {},
   "source": [
    "<b>Note: </b>Clearly what we derived from the hypothesis testing is also visible here, we can see that we can very well assume linear relationship between GovtSpend as % of GDP and Unemployemnt rate which is now evident from the above graph. "
   ]
  },
  {
   "cell_type": "markdown",
   "id": "ea400232",
   "metadata": {},
   "source": [
    "# Conclusions:"
   ]
  },
  {
   "cell_type": "markdown",
   "id": "623c7c75",
   "metadata": {},
   "source": [
    "1. <b>GDP Growth rate and Government Spending as % of GDP</b> though depict certain value of correlation coefficient but are actually not signicant enough to show linear relationship in the hypothesis testing. From regression analysis also it is confirmed that GDP Growth rate and Government Spending as % of GDP <b>do not depict linear relationship</b>.\n",
    "\n",
    "\n",
    "2. <b>Unemployment rate and Government Spending as % of GDP</b> depicted well enough correlation coefficient and also showed great significant linear relationship in hypothesis testing. From regression analysis also it is confirmed that Unemployment rate and Government Spending as % of GDP <b>depict great linear relationship</b>."
   ]
  }
 ],
 "metadata": {
  "kernelspec": {
   "display_name": "Python 3 (ipykernel)",
   "language": "python",
   "name": "python3"
  },
  "language_info": {
   "codemirror_mode": {
    "name": "ipython",
    "version": 3
   },
   "file_extension": ".py",
   "mimetype": "text/x-python",
   "name": "python",
   "nbconvert_exporter": "python",
   "pygments_lexer": "ipython3",
   "version": "3.9.7"
  }
 },
 "nbformat": 4,
 "nbformat_minor": 5
}
